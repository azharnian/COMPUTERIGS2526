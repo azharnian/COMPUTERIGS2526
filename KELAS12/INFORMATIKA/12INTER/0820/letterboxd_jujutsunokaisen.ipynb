{
  "cells": [
    {
      "cell_type": "code",
      "execution_count": 1,
      "metadata": {
        "colab": {
          "base_uri": "https://localhost:8080/"
        },
        "id": "cIDK3Pc5Okgl",
        "outputId": "1f1f9aa9-c46e-4f40-b572-edd07efe4631"
      },
      "outputs": [
        {
          "name": "stdout",
          "output_type": "stream",
          "text": [
            "Requirement already satisfied: beautifulsoup4 in /usr/local/lib/python3.12/dist-packages (4.13.4)\n",
            "Requirement already satisfied: soupsieve>1.2 in /usr/local/lib/python3.12/dist-packages (from beautifulsoup4) (2.7)\n",
            "Requirement already satisfied: typing-extensions>=4.0.0 in /usr/local/lib/python3.12/dist-packages (from beautifulsoup4) (4.14.1)\n"
          ]
        }
      ],
      "source": [
        "!pip install beautifulsoup4"
      ]
    },
    {
      "cell_type": "code",
      "execution_count": 2,
      "metadata": {
        "id": "rs7ZcUJ1OoID"
      },
      "outputs": [],
      "source": [
        "import requests\n",
        "from bs4 import BeautifulSoup"
      ]
    },
    {
      "cell_type": "code",
      "execution_count": 4,
      "metadata": {
        "id": "oDbKVTrEOtQx"
      },
      "outputs": [],
      "source": [
        "url = \"https://letterboxd.com/film/jujutsu-kaisen/reviews/by/activity/page/1\"\n",
        "response = requests.get(url)\n",
        "soup = BeautifulSoup(response.content, 'html.parser')\n",
        "html = soup.find_all('div', class_='listitem')"
      ]
    },
    {
      "cell_type": "code",
      "execution_count": 5,
      "metadata": {
        "colab": {
          "base_uri": "https://localhost:8080/"
        },
        "id": "XWPgUGYFO8fY",
        "outputId": "5b3ebc49-50ee-4a74-c534-eac5f2129c94"
      },
      "outputs": [
        {
          "name": "stdout",
          "output_type": "stream",
          "text": [
            "[<div class=\"listitem\"> <article class=\"production-viewing -viewing\" data-js-treasure-hunt=\"index-target\"> <a class=\"avatar -a40\" href=\"/romanticize/\"> <img alt=\"sidra\" height=\"40\" src=\"https://a.ltrbxd.com/resized/avatar/upload/3/0/8/1/8/4/9/shard/avtr-0-80-0-80-crop.jpg?v=9e78640176\" width=\"40\"/> </a> <div class=\"body\"> <div class=\"content-reactions-strip -viewing\"> <span class=\"rating -green rated-8\"> ★★★★ </span> <span class=\"attribution-detail\"> <a class=\"context\" href=\"/romanticize/film/jujutsu-kaisen/\"> Watched by <span class=\"owner\"><strong class=\"displayname\">sidra</strong></span> </a> </span> <span class=\"date\"><time class=\"timestamp\" datetime=\"2021-05-19\">19 May 2021</time></span> <a class=\"inlineicon icon-16 -ignoreactionpseudo icon-comment\" href=\"/romanticize/film/jujutsu-kaisen/#comments\"><span class=\"icon\" role=\"presentation\"></span><span class=\"label\">12</span></a> </div> <div class=\"js-review\"> <p class=\"body-text -prose js-spoiler-container\" data-watchable-uid=\"film:686732\"> <em>This review may contain spoilers. <a data-js-hide-on-trigger=\"spoiler.reveal\" data-js-trigger=\"spoiler.reveal\" href=\"#\">I can handle the truth.</a></em> </p> <div class=\"body-text -prose -reset js-review-body js-collapsible-text\" data-full-text-url=\"/s/full-text/viewing:171595143/\" data-is-translatable=\"true\" data-js-reveal-on-trigger=\"spoiler.reveal\" hidden=\"\" lang=\"en\"> <p>rip junpei yoshino you would have loved letterboxd</p> </div> <div class=\"viewing-actions\"> <div class=\"review-actions\"> <p class=\"like-link-target react-component\" data-component-class=\"globals.comps.LikeComponent\" data-count=\"2878\" data-element-type=\"p\" data-format=\"count\" data-likeable=\"true\" data-likeable-identifier='{\"lid\":\"1S7XlZ\",\"uid\":\"viewing:171595143\",\"type\":\"viewing\",\"typeName\":\"review\"}' data-likes-page=\"/romanticize/film/jujutsu-kaisen/likes/\" data-owner=\"romanticize\"> <span class=\"has-icon icon-16 icon-like\"></span> </p> <button class=\"translation-button button -text\" data-translation-control-for=\"1S7XlZ\" hidden=\"\"> <span class=\"label js-label\">Translate</span> </button> <div class=\"translation-disclaimer js-translation-disclaimer\" hidden=\"\"> Translated from <span class=\"js-language-name\"></span> by <span class=\"js-translated-by\"></span> </div> </div> </div> </div> </div> </article> </div>, <div class=\"listitem\"> <article class=\"production-viewing -viewing\" data-js-treasure-hunt=\"index-target\"> <a class=\"avatar -a40\" href=\"/sethbutherogen/\"> <img alt=\"Vincent\" height=\"40\" src=\"https://a.ltrbxd.com/resized/avatar/upload/2/8/1/1/6/8/1/shard/avtr-0-80-0-80-crop.jpg?v=7ecb6ceef6\" width=\"40\"/> </a> <div class=\"body\"> <div class=\"content-reactions-strip -viewing\"> <span class=\"rating -green rated-9\"> ★★★★½ </span> <span class=\"attribution-detail\"> <a class=\"context\" href=\"/sethbutherogen/film/jujutsu-kaisen/\"> Watched by <span class=\"owner\"><strong class=\"displayname\">Vincent</strong></span> </a> </span> <span class=\"date\"><time class=\"timestamp\" datetime=\"2021-03-12\">12 Mar 2021</time></span> <a class=\"inlineicon icon-16 -ignoreactionpseudo icon-comment\" href=\"/sethbutherogen/film/jujutsu-kaisen/#comments\"><span class=\"icon\" role=\"presentation\"></span><span class=\"label\">5</span></a> </div> <div class=\"js-review\"> <div class=\"body-text -prose -reset js-review-body js-collapsible-text\" data-full-text-url=\"/s/full-text/viewing:157551960/\" data-is-translatable=\"true\" lang=\"en\"> <p>All my homies like tall girls with big asses</p> </div> <div class=\"viewing-actions\"> <div class=\"review-actions\"> <p class=\"like-link-target react-component\" data-component-class=\"globals.comps.LikeComponent\" data-count=\"2383\" data-element-type=\"p\" data-format=\"count\" data-likeable=\"true\" data-likeable-identifier='{\"lid\":\"1ICICt\",\"uid\":\"viewing:157551960\",\"type\":\"viewing\",\"typeName\":\"review\"}' data-likes-page=\"/sethbutherogen/film/jujutsu-kaisen/likes/\" data-owner=\"SethButHeRogen\"> <span class=\"has-icon icon-16 icon-like\"></span> </p> <button class=\"translation-button button -text\" data-translation-control-for=\"1ICICt\" hidden=\"\"> <span class=\"label js-label\">Translate</span> </button> <div class=\"translation-disclaimer js-translation-disclaimer\" hidden=\"\"> Translated from <span class=\"js-language-name\"></span> by <span class=\"js-translated-by\"></span> </div> </div> </div> </div> </div> </article> </div>, <div class=\"listitem\"> <article class=\"production-viewing -viewing\" data-js-treasure-hunt=\"index-target\"> <a class=\"avatar -a40\" href=\"/bluewillows/\"> <img alt=\"prarthna\" height=\"40\" src=\"https://a.ltrbxd.com/resized/avatar/upload/3/4/3/0/9/0/3/shard/avtr-0-80-0-80-crop.jpg?v=6b04c0bed9\" width=\"40\"/> </a> <div class=\"body\"> <div class=\"content-reactions-strip -viewing\"> <span class=\"rating -green rated-9\"> ★★★★½ </span> <span class=\"attribution-detail\"> <a class=\"context\" href=\"/bluewillows/film/jujutsu-kaisen/\"> Added by <span class=\"owner\"><strong class=\"displayname\">prarthna</strong></span> </a> </span> <span class=\"date\"><time class=\"timestamp js-localtime-d-mmm-yyyy\" datetime=\"2021-01-16T11:54:13.523Z\"></time></span> <a class=\"inlineicon icon-16 -ignoreactionpseudo icon-comment\" href=\"/bluewillows/film/jujutsu-kaisen/#comments\"><span class=\"icon\" role=\"presentation\"></span><span class=\"label\">7</span></a> </div> <div class=\"js-review\"> <div class=\"body-text -prose -reset js-review-body js-collapsible-text\" data-full-text-url=\"/s/full-text/viewing:146038896/\" data-is-translatable=\"true\"> <p>satosugu canon</p> </div> <div class=\"viewing-actions\"> <div class=\"review-actions\"> <p class=\"like-link-target react-component\" data-component-class=\"globals.comps.LikeComponent\" data-count=\"2022\" data-element-type=\"p\" data-format=\"count\" data-likeable=\"true\" data-likeable-identifier='{\"lid\":\"1APDSF\",\"uid\":\"viewing:146038896\",\"type\":\"viewing\",\"typeName\":\"review\"}' data-likes-page=\"/bluewillows/film/jujutsu-kaisen/likes/\" data-owner=\"bluewillows\"> <span class=\"has-icon icon-16 icon-like\"></span> </p> <button class=\"translation-button button -text\" data-translation-control-for=\"1APDSF\" hidden=\"\"> <span class=\"label js-label\">Translate</span> </button> <div class=\"translation-disclaimer js-translation-disclaimer\" hidden=\"\"> Translated from <span class=\"js-language-name\"></span> by <span class=\"js-translated-by\"></span> </div> </div> </div> </div> </div> </article> </div>, <div class=\"listitem\"> <article class=\"production-viewing -viewing\" data-js-treasure-hunt=\"index-target\"> <a class=\"avatar -a40\" href=\"/jacobler8/\"> <img alt=\"jacobler\" height=\"40\" src=\"https://a.ltrbxd.com/resized/avatar/upload/7/3/8/7/3/5/shard/avtr-0-80-0-80-crop.jpg?v=e15170db7b\" width=\"40\"/> </a> <div class=\"body\"> <div class=\"content-reactions-strip -viewing\"> <span class=\"rating -green rated-10\"> ★★★★★ </span> <span class=\"inlineicon icon-16 -ignoreactionpseudo icon-liked -hidelabel\"><span class=\"icon\" role=\"presentation\"></span><span class=\"label\">Liked</span></span> <span class=\"attribution-detail\"> <a class=\"context\" href=\"/jacobler8/film/jujutsu-kaisen/\"> Watched by <span class=\"owner\"><strong class=\"displayname\">jacobler</strong></span> </a> </span> <span class=\"date\"><time class=\"timestamp\" datetime=\"2021-03-26\">26 Mar 2021</time></span> <a class=\"inlineicon icon-16 -ignoreactionpseudo icon-comment\" href=\"/jacobler8/film/jujutsu-kaisen/#comments\"><span class=\"icon\" role=\"presentation\"></span><span class=\"label\">1</span></a> </div> <div class=\"js-review\"> <div class=\"body-text -prose -reset js-review-body js-collapsible-text\" data-full-text-url=\"/s/full-text/viewing:160325085/\" data-is-translatable=\"true\" lang=\"en\"> <p>mappa need their ass ate fr</p> </div> <div class=\"viewing-actions\"> <div class=\"review-actions\"> <p class=\"like-link-target react-component\" data-component-class=\"globals.comps.LikeComponent\" data-count=\"991\" data-element-type=\"p\" data-format=\"count\" data-likeable=\"true\" data-likeable-identifier='{\"lid\":\"1Kv4MH\",\"uid\":\"viewing:160325085\",\"type\":\"viewing\",\"typeName\":\"review\"}' data-likes-page=\"/jacobler8/film/jujutsu-kaisen/likes/\" data-owner=\"jacobler8\"> <span class=\"has-icon icon-16 icon-like\"></span> </p> <button class=\"translation-button button -text\" data-translation-control-for=\"1Kv4MH\" hidden=\"\"> <span class=\"label js-label\">Translate</span> </button> <div class=\"translation-disclaimer js-translation-disclaimer\" hidden=\"\"> Translated from <span class=\"js-language-name\"></span> by <span class=\"js-translated-by\"></span> </div> </div> </div> </div> </div> </article> </div>, <div class=\"listitem\"> <article class=\"production-viewing -viewing\" data-js-treasure-hunt=\"index-target\"> <a class=\"avatar -a40\" href=\"/devilmaycry5/\"> <img alt=\"eli thee skull\" height=\"40\" src=\"https://a.ltrbxd.com/resized/avatar/upload/4/6/9/7/9/8/shard/avtr-0-80-0-80-crop.jpg?v=ef7a701bb6\" width=\"40\"/> </a> <div class=\"body\"> <div class=\"content-reactions-strip -viewing\"> <span class=\"rating -green rated-10\"> ★★★★★ </span> <span class=\"inlineicon icon-16 -ignoreactionpseudo icon-liked -hidelabel\"><span class=\"icon\" role=\"presentation\"></span><span class=\"label\">Liked</span></span> <span class=\"attribution-detail\"> <a class=\"context\" href=\"/devilmaycry5/film/jujutsu-kaisen/\"> Watched by <span class=\"owner\"><strong class=\"displayname\">eli thee skull</strong></span> </a> </span> <span class=\"date\"><time class=\"timestamp\" datetime=\"2021-04-21\">21 Apr 2021</time></span> </div> <div class=\"js-review\"> <div class=\"body-text -prose -reset js-review-body js-collapsible-text\" data-full-text-url=\"/s/full-text/viewing:165952551/\" data-is-translatable=\"true\" lang=\"en\"> <p>i am not immune to hot white haired anime man</p> </div> <div class=\"viewing-actions\"> <div class=\"review-actions\"> <p class=\"like-link-target react-component\" data-component-class=\"globals.comps.LikeComponent\" data-count=\"922\" data-element-type=\"p\" data-format=\"count\" data-likeable=\"true\" data-likeable-identifier='{\"lid\":\"1Ojcov\",\"uid\":\"viewing:165952551\",\"type\":\"viewing\",\"typeName\":\"review\"}' data-likes-page=\"/devilmaycry5/film/jujutsu-kaisen/likes/\" data-owner=\"devilmaycry5\"> <span class=\"has-icon icon-16 icon-like\"></span> </p> <button class=\"translation-button button -text\" data-translation-control-for=\"1Ojcov\" hidden=\"\"> <span class=\"label js-label\">Translate</span> </button> <div class=\"translation-disclaimer js-translation-disclaimer\" hidden=\"\"> Translated from <span class=\"js-language-name\"></span> by <span class=\"js-translated-by\"></span> </div> </div> </div> </div> </div> </article> </div>, <div class=\"listitem\"> <article class=\"production-viewing -viewing\" data-js-treasure-hunt=\"index-target\"> <a class=\"avatar -a40\" href=\"/gyllenthusiast/\"> <img alt=\"abigail\" height=\"40\" src=\"https://a.ltrbxd.com/resized/avatar/upload/1/0/6/2/3/5/1/shard/avtr-0-80-0-80-crop.jpg?v=4c6e447eb7\" width=\"40\"/> </a> <div class=\"body\"> <div class=\"content-reactions-strip -viewing\"> <span class=\"rating -green rated-10\"> ★★★★★ </span> <span class=\"inlineicon icon-16 -ignoreactionpseudo icon-liked -hidelabel\"><span class=\"icon\" role=\"presentation\"></span><span class=\"label\">Liked</span></span> <span class=\"attribution-detail\"> <a class=\"context\" href=\"/gyllenthusiast/film/jujutsu-kaisen/\"> Watched by <span class=\"owner\"><strong class=\"displayname\">abigail</strong></span> </a> </span> <span class=\"date\"><time class=\"timestamp\" datetime=\"2021-02-28\">28 Feb 2021</time></span> <a class=\"inlineicon icon-16 -ignoreactionpseudo icon-comment\" href=\"/gyllenthusiast/film/jujutsu-kaisen/#comments\"><span class=\"icon\" role=\"presentation\"></span><span class=\"label\">9</span></a> </div> <div class=\"js-review\"> <div class=\"body-text -prose -reset js-review-body js-collapsible-text\" data-full-text-url=\"/s/full-text/viewing:155239234/\" data-is-translatable=\"true\" lang=\"en\"> <p>therapy: expensive<br/>jujutsu kaisen: free</p><p>act: finished the manga and now i need therapy</p> </div> <div class=\"viewing-actions\"> <div class=\"review-actions\"> <p class=\"like-link-target react-component\" data-component-class=\"globals.comps.LikeComponent\" data-count=\"766\" data-element-type=\"p\" data-format=\"count\" data-likeable=\"true\" data-likeable-identifier='{\"lid\":\"1H3Ga9\",\"uid\":\"viewing:155239234\",\"type\":\"viewing\",\"typeName\":\"review\"}' data-likes-page=\"/gyllenthusiast/film/jujutsu-kaisen/likes/\" data-owner=\"gyllenthusiast\"> <span class=\"has-icon icon-16 icon-like\"></span> </p> <button class=\"translation-button button -text\" data-translation-control-for=\"1H3Ga9\" hidden=\"\"> <span class=\"label js-label\">Translate</span> </button> <div class=\"translation-disclaimer js-translation-disclaimer\" hidden=\"\"> Translated from <span class=\"js-language-name\"></span> by <span class=\"js-translated-by\"></span> </div> </div> </div> </div> </div> </article> </div>, <div class=\"listitem\"> <article class=\"production-viewing -viewing\" data-js-treasure-hunt=\"index-target\"> <a class=\"avatar -a40\" href=\"/marcellahaley/\"> <img alt=\"haley 🤍\" height=\"40\" src=\"https://a.ltrbxd.com/resized/avatar/upload/2/6/8/7/6/8/6/shard/avtr-0-80-0-80-crop.jpg?v=444716bc5d\" width=\"40\"/> </a> <div class=\"body\"> <div class=\"content-reactions-strip -viewing\"> <span class=\"rating -green rated-8\"> ★★★★ </span> <span class=\"inlineicon icon-16 -ignoreactionpseudo icon-liked -hidelabel\"><span class=\"icon\" role=\"presentation\"></span><span class=\"label\">Liked</span></span> <span class=\"attribution-detail\"> <a class=\"context\" href=\"/marcellahaley/film/jujutsu-kaisen/\"> Watched by <span class=\"owner\"><strong class=\"displayname\">haley 🤍</strong></span> </a> </span> <span class=\"date\"><time class=\"timestamp\" datetime=\"2021-04-02\">02 Apr 2021</time></span> <a class=\"inlineicon icon-16 -ignoreactionpseudo icon-comment\" href=\"/marcellahaley/film/jujutsu-kaisen/#comments\"><span class=\"icon\" role=\"presentation\"></span><span class=\"label\">4</span></a> </div> <div class=\"js-review\"> <div class=\"body-text -prose -reset js-review-body js-collapsible-text\" data-full-text-url=\"/s/full-text/viewing:161811041/\" data-is-translatable=\"true\"> <p>gojo satoru i am your whore</p> </div> <div class=\"viewing-actions\"> <div class=\"review-actions\"> <p class=\"like-link-target react-component\" data-component-class=\"globals.comps.LikeComponent\" data-count=\"739\" data-element-type=\"p\" data-format=\"count\" data-likeable=\"true\" data-likeable-identifier='{\"lid\":\"1Lvqr1\",\"uid\":\"viewing:161811041\",\"type\":\"viewing\",\"typeName\":\"review\"}' data-likes-page=\"/marcellahaley/film/jujutsu-kaisen/likes/\" data-owner=\"marcellahaley\"> <span class=\"has-icon icon-16 icon-like\"></span> </p> <button class=\"translation-button button -text\" data-translation-control-for=\"1Lvqr1\" hidden=\"\"> <span class=\"label js-label\">Translate</span> </button> <div class=\"translation-disclaimer js-translation-disclaimer\" hidden=\"\"> Translated from <span class=\"js-language-name\"></span> by <span class=\"js-translated-by\"></span> </div> </div> </div> </div> </div> </article> </div>, <div class=\"listitem\"> <article class=\"production-viewing -viewing\" data-js-treasure-hunt=\"index-target\"> <a class=\"avatar -a40\" href=\"/suspirliam/\"> <img alt=\"˗ˏˋ suspirliam ˊˎ˗\" height=\"40\" src=\"https://a.ltrbxd.com/resized/avatar/upload/4/3/4/0/8/4/shard/avtr-0-80-0-80-crop.jpg?v=5f48ce5f41\" width=\"40\"/> </a> <div class=\"body\"> <div class=\"content-reactions-strip -viewing\"> <span class=\"rating -green rated-8\"> ★★★★ </span> <span class=\"attribution-detail\"> <a class=\"context\" href=\"/suspirliam/film/jujutsu-kaisen/\"> Watched by <span class=\"owner\"><strong class=\"displayname\">˗ˏˋ suspirliam ˊˎ˗</strong></span> </a> </span> <span class=\"date\"><time class=\"timestamp\" datetime=\"2023-08-10\">10 Aug 2023</time></span> <a class=\"inlineicon icon-16 -ignoreactionpseudo icon-comment\" href=\"/suspirliam/film/jujutsu-kaisen/#comments\"><span class=\"icon\" role=\"presentation\"></span><span class=\"label\">4</span></a> </div> <div class=\"js-review\"> <div class=\"body-text -prose -reset js-review-body js-collapsible-text\" data-full-text-url=\"/s/full-text/viewing:428740792/\" data-is-translatable=\"true\" lang=\"en\"> <p>salmon</p> </div> <div class=\"viewing-actions\"> <div class=\"review-actions\"> <p class=\"like-link-target react-component\" data-component-class=\"globals.comps.LikeComponent\" data-count=\"674\" data-element-type=\"p\" data-format=\"count\" data-likeable=\"true\" data-likeable-identifier='{\"lid\":\"4G9wEF\",\"uid\":\"viewing:428740792\",\"type\":\"viewing\",\"typeName\":\"review\"}' data-likes-page=\"/suspirliam/film/jujutsu-kaisen/likes/\" data-owner=\"suspirliam\"> <span class=\"has-icon icon-16 icon-like\"></span> </p> <button class=\"translation-button button -text\" data-translation-control-for=\"4G9wEF\" hidden=\"\"> <span class=\"label js-label\">Translate</span> </button> <div class=\"translation-disclaimer js-translation-disclaimer\" hidden=\"\"> Translated from <span class=\"js-language-name\"></span> by <span class=\"js-translated-by\"></span> </div> </div> </div> </div> </div> </article> </div>, <div class=\"listitem\"> <article class=\"production-viewing -viewing\" data-js-treasure-hunt=\"index-target\"> <a class=\"avatar -a40\" href=\"/mbom/\"> <img alt=\"moco\" height=\"40\" src=\"https://a.ltrbxd.com/resized/avatar/upload/2/0/1/6/1/8/5/shard/avtr-0-80-0-80-crop.jpg?v=8f9f8d5ca5\" width=\"40\"/> </a> <div class=\"body\"> <div class=\"content-reactions-strip -viewing\"> <span class=\"rating -green rated-10\"> ★★★★★ </span> <span class=\"inlineicon icon-16 -ignoreactionpseudo icon-liked -hidelabel\"><span class=\"icon\" role=\"presentation\"></span><span class=\"label\">Liked</span></span> <span class=\"attribution-detail\"> <a class=\"context\" href=\"/mbom/film/jujutsu-kaisen/\"> Watched by <span class=\"owner\"><strong class=\"displayname\">moco</strong></span> </a> </span> <span class=\"date\"><time class=\"timestamp\" datetime=\"2021-01-23\">23 Jan 2021</time></span> <a class=\"inlineicon icon-16 -ignoreactionpseudo icon-comment\" href=\"/mbom/film/jujutsu-kaisen/#comments\"><span class=\"icon\" role=\"presentation\"></span><span class=\"label\">2</span></a> </div> <div class=\"js-review\"> <div class=\"body-text -prose -reset js-review-body js-collapsible-text\" data-full-text-url=\"/s/full-text/viewing:148226015/\" data-is-translatable=\"true\" lang=\"en\"> <p>megumi fushiguro if you read this i’m free on thursday night and would like to hang out. please respond to this and then hang out with me on thursday night when i’m free</p> </div> <div class=\"viewing-actions\"> <div class=\"review-actions\"> <p class=\"like-link-target react-component\" data-component-class=\"globals.comps.LikeComponent\" data-count=\"633\" data-element-type=\"p\" data-format=\"count\" data-likeable=\"true\" data-likeable-identifier='{\"lid\":\"1CjpzN\",\"uid\":\"viewing:148226015\",\"type\":\"viewing\",\"typeName\":\"review\"}' data-likes-page=\"/mbom/film/jujutsu-kaisen/likes/\" data-owner=\"mbom\"> <span class=\"has-icon icon-16 icon-like\"></span> </p> <button class=\"translation-button button -text\" data-translation-control-for=\"1CjpzN\" hidden=\"\"> <span class=\"label js-label\">Translate</span> </button> <div class=\"translation-disclaimer js-translation-disclaimer\" hidden=\"\"> Translated from <span class=\"js-language-name\"></span> by <span class=\"js-translated-by\"></span> </div> </div> </div> </div> </div> </article> </div>, <div class=\"listitem\"> <article class=\"production-viewing -viewing\" data-js-treasure-hunt=\"index-target\"> <a class=\"avatar -a40\" href=\"/404niche/\"> <img alt=\"eunice\" height=\"40\" src=\"https://a.ltrbxd.com/resized/avatar/upload/3/8/4/2/6/3/4/shard/avtr-0-80-0-80-crop.jpg?v=67d55de6bf\" width=\"40\"/> </a> <div class=\"body\"> <div class=\"content-reactions-strip -viewing\"> <span class=\"rating -green rated-10\"> ★★★★★ </span> <span class=\"inlineicon icon-16 -ignoreactionpseudo icon-liked -hidelabel\"><span class=\"icon\" role=\"presentation\"></span><span class=\"label\">Liked</span></span> <span class=\"attribution-detail\"> <a class=\"context\" href=\"/404niche/film/jujutsu-kaisen/\"> Watched by <span class=\"owner\"><strong class=\"displayname\">eunice</strong></span> </a> </span> <span class=\"date\"><time class=\"timestamp\" datetime=\"2021-03-31\">31 Mar 2021</time></span> <a class=\"inlineicon icon-16 -ignoreactionpseudo icon-comment\" href=\"/404niche/film/jujutsu-kaisen/#comments\"><span class=\"icon\" role=\"presentation\"></span><span class=\"label\">1</span></a> </div> <div class=\"js-review\"> <div class=\"body-text -prose -reset js-review-body js-collapsible-text\" data-full-text-url=\"/s/full-text/viewing:161811408/\" data-is-translatable=\"true\" lang=\"en\"> <p>me: i hate men<br/>nanami: h-<br/>me: not you bby &lt;33</p> </div> <div class=\"viewing-actions\"> <div class=\"review-actions\"> <p class=\"like-link-target react-component\" data-component-class=\"globals.comps.LikeComponent\" data-count=\"598\" data-element-type=\"p\" data-format=\"count\" data-likeable=\"true\" data-likeable-identifier='{\"lid\":\"1Lvrod\",\"uid\":\"viewing:161811408\",\"type\":\"viewing\",\"typeName\":\"review\"}' data-likes-page=\"/404niche/film/jujutsu-kaisen/likes/\" data-owner=\"404NICHE\"> <span class=\"has-icon icon-16 icon-like\"></span> </p> <button class=\"translation-button button -text\" data-translation-control-for=\"1Lvrod\" hidden=\"\"> <span class=\"label js-label\">Translate</span> </button> <div class=\"translation-disclaimer js-translation-disclaimer\" hidden=\"\"> Translated from <span class=\"js-language-name\"></span> by <span class=\"js-translated-by\"></span> </div> </div> </div> </div> </div> </article> </div>, <div class=\"listitem\"> <article class=\"production-viewing -viewing\" data-js-treasure-hunt=\"index-target\"> <a class=\"avatar -a40\" href=\"/balanders/\"> <img alt=\"sam\" height=\"40\" src=\"https://a.ltrbxd.com/resized/avatar/upload/6/1/8/0/5/8/shard/avtr-0-80-0-80-crop.jpg?v=9b2338345c\" width=\"40\"/> </a> <div class=\"body\"> <div class=\"content-reactions-strip -viewing\"> <span class=\"inlineicon icon-16 -ignoreactionpseudo icon-liked -hidelabel\"><span class=\"icon\" role=\"presentation\"></span><span class=\"label\">Liked</span></span> <span class=\"attribution-detail\"> <a class=\"context\" href=\"/balanders/film/jujutsu-kaisen/\"> Watched by <span class=\"owner\"><strong class=\"displayname\">sam</strong></span> </a> </span> <span class=\"date\"><time class=\"timestamp\" datetime=\"2021-03-27\">27 Mar 2021</time></span> <a class=\"inlineicon icon-16 -ignoreactionpseudo icon-comment\" href=\"/balanders/film/jujutsu-kaisen/#comments\"><span class=\"icon\" role=\"presentation\"></span><span class=\"label\">1</span></a> </div> <div class=\"js-review\"> <div class=\"body-text -prose -reset js-review-body js-collapsible-text\" data-full-text-url=\"/s/full-text/viewing:160426369/\" data-is-translatable=\"true\" lang=\"en\"> <p>nobara &amp; maki: lesbians, get behind us!</p> </div> <div class=\"viewing-actions\"> <div class=\"review-actions\"> <p class=\"like-link-target react-component\" data-component-class=\"globals.comps.LikeComponent\" data-count=\"513\" data-element-type=\"p\" data-format=\"count\" data-likeable=\"true\" data-likeable-identifier='{\"lid\":\"1KzkgP\",\"uid\":\"viewing:160426369\",\"type\":\"viewing\",\"typeName\":\"review\"}' data-likes-page=\"/balanders/film/jujutsu-kaisen/likes/\" data-owner=\"balanders\"> <span class=\"has-icon icon-16 icon-like\"></span> </p> <button class=\"translation-button button -text\" data-translation-control-for=\"1KzkgP\" hidden=\"\"> <span class=\"label js-label\">Translate</span> </button> <div class=\"translation-disclaimer js-translation-disclaimer\" hidden=\"\"> Translated from <span class=\"js-language-name\"></span> by <span class=\"js-translated-by\"></span> </div> </div> </div> </div> </div> </article> </div>, <div class=\"listitem\"> <article class=\"production-viewing -viewing\" data-js-treasure-hunt=\"index-target\"> <a class=\"avatar -a40\" href=\"/mainsthemad/\"> <img alt=\"MainsTheMad\" height=\"40\" src=\"https://a.ltrbxd.com/resized/avatar/upload/7/9/7/0/2/9/shard/avtr-0-80-0-80-crop.jpg?v=5f6e253359\" width=\"40\"/> </a> <div class=\"body\"> <div class=\"content-reactions-strip -viewing\"> <span class=\"rating -green rated-10\"> ★★★★★ </span> <span class=\"inlineicon icon-16 -ignoreactionpseudo icon-liked -hidelabel\"><span class=\"icon\" role=\"presentation\"></span><span class=\"label\">Liked</span></span> <span class=\"attribution-detail\"> <a class=\"context\" href=\"/mainsthemad/film/jujutsu-kaisen/\"> Watched by <span class=\"owner\"><strong class=\"displayname\">MainsTheMad</strong></span> </a> </span> <span class=\"date\"><time class=\"timestamp\" datetime=\"2021-05-25\">25 May 2021</time></span> <a class=\"inlineicon icon-16 -ignoreactionpseudo icon-comment\" href=\"/mainsthemad/film/jujutsu-kaisen/#comments\"><span class=\"icon\" role=\"presentation\"></span><span class=\"label\">2</span></a> </div> <div class=\"js-review\"> <div class=\"body-text -prose -reset js-review-body js-collapsible-text\" data-full-text-url=\"/s/full-text/viewing:172811060/\" data-is-translatable=\"true\" lang=\"en\"> <p>Physically I am here but mentally I am always in the Lost in Paradise credits.</p> </div> <div class=\"viewing-actions\"> <div class=\"review-actions\"> <p class=\"like-link-target react-component\" data-component-class=\"globals.comps.LikeComponent\" data-count=\"512\" data-element-type=\"p\" data-format=\"count\" data-likeable=\"true\" data-likeable-identifier='{\"lid\":\"1SWYvD\",\"uid\":\"viewing:172811060\",\"type\":\"viewing\",\"typeName\":\"review\"}' data-likes-page=\"/mainsthemad/film/jujutsu-kaisen/likes/\" data-owner=\"MainsTheMad\"> <span class=\"has-icon icon-16 icon-like\"></span> </p> <button class=\"translation-button button -text\" data-translation-control-for=\"1SWYvD\" hidden=\"\"> <span class=\"label js-label\">Translate</span> </button> <div class=\"translation-disclaimer js-translation-disclaimer\" hidden=\"\"> Translated from <span class=\"js-language-name\"></span> by <span class=\"js-translated-by\"></span> </div> </div> </div> </div> </div> </article> </div>, <div class=\"listitem -icononly\">\n",
            "<a class=\"trigger tooltip\" href=\"https://www.instagram.com/letterboxd\" rel=\"noopener noreferrer\" target=\"_blank\" title=\"Letterboxd on Instagram\">\n",
            "<svg aria-hidden=\"true\" class=\"glyph\" height=\"20\" role=\"presentation\" width=\"20\" xmlns=\"http://www.w3.org/2000/svg\"><path d=\"M14.12.06c1.07.05 1.8.22 2.43.46.66.26 1.21.6 1.77 1.16.56.55.9 1.11 1.15 1.77.25.63.42 1.36.47 2.43.04.94.06 1.32.06 3.3v1.37c0 1.54 0 2.19-.03 2.77v.22l-.03.58a7.34 7.34 0 0 1-.47 2.43 4.9 4.9 0 0 1-1.15 1.77 4.9 4.9 0 0 1-1.77 1.16c-.64.24-1.36.41-2.43.46l-.61.03h-.23c-.5.02-1.06.03-2.21.03H9.2c-2 0-2.37-.02-3.32-.06a7.34 7.34 0 0 1-2.43-.46 4.9 4.9 0 0 1-1.77-1.16 4.9 4.9 0 0 1-1.16-1.77 7.34 7.34 0 0 1-.46-2.43l-.03-.61v-.2A60.9 60.9 0 0 1 0 11.5V8.75C0 7.7.01 7.17.03 6.7v-.2l.03-.61C.1 4.8.28 4.08.52 3.45a4.9 4.9 0 0 1 1.16-1.77A4.9 4.9 0 0 1 3.45.52 7.34 7.34 0 0 1 5.88.06l.61-.03h.2C7.12 0 7.6 0 8.5 0h2.74c1.62 0 2 .02 2.88.06ZM11.02 2H8.97c-1.7 0-2.05.02-2.92.06a5.4 5.4 0 0 0-1.82.33c-.45.18-.78.39-1.12.73-.34.34-.55.67-.73 1.12-.13.35-.3.86-.33 1.82C2.02 6.93 2 7.29 2 8.98v2.04c0 1.7.02 2.05.06 2.92.04.95.2 1.47.33 1.81.18.46.39.78.73 1.13.34.34.67.55 1.12.73.35.13.86.29 1.82.33.83.04 1.2.05 2.7.06h2.47c1.51 0 1.87-.02 2.71-.06a5.4 5.4 0 0 0 1.81-.33c.46-.18.78-.4 1.12-.73.35-.35.56-.67.73-1.13.14-.34.3-.86.34-1.8a49 49 0 0 0 .06-2.72V8.77a49 49 0 0 0-.06-2.71 5.4 5.4 0 0 0-.34-1.82 3.02 3.02 0 0 0-.73-1.12 3.02 3.02 0 0 0-1.12-.73 5.4 5.4 0 0 0-1.81-.33c-.88-.04-1.23-.06-2.93-.06ZM10 4.86a5.14 5.14 0 1 1 0 10.28 5.14 5.14 0 0 1 0-10.28ZM10 7a3 3 0 1 0 0 6 3 3 0 0 0 0-6Zm5.25-3.5a1.25 1.25 0 1 1 0 2.5 1.25 1.25 0 0 1 0-2.5Z\"></path></svg>\n",
            "<span class=\"label\">Instagram</span>\n",
            "</a>\n",
            "</div>, <div class=\"listitem -icononly\">\n",
            "<a class=\"trigger tooltip\" href=\"https://www.threads.net/@letterboxd\" rel=\"noopener noreferrer\" target=\"_blank\" title=\"Letterboxd on Threads\">\n",
            "<svg aria-hidden=\"true\" class=\"glyph\" height=\"18\" role=\"presentation\" width=\"16\" xmlns=\"http://www.w3.org/2000/svg\"><path d=\"M8.1 0c2.8 0 4.9.9 6.3 2.6.7.9 1.3 1.9 1.6 3v.1l-1.6.4c-.3-1-.7-1.8-1.3-2.4-1.1-1.3-2.8-2-5-2-2.1 0-3.8.7-4.9 2-1 1.2-1.5 3-1.5 5.3s.5 4 1.5 5.3c1.1 1.3 2.8 2 5 2 1.9 0 3.2-.4 4.3-1.5 1-1 1.3-2.4.8-3.5-.2-.5-.6-1-1.1-1.2-.2 1-.5 1.7-1 2.3-.7.8-1.6 1.3-2.8 1.3-1 .1-1.8-.1-2.5-.6A2.8 2.8 0 0 1 4.5 11C4.5 9 6 7.8 8.2 7.6l2.3.1c-.1-.5-.3-.9-.6-1.2-.4-.4-1-.6-1.7-.7-.9 0-1.6.3-2 1H6L4.7 6a4 4 0 0 1 3.5-1.7c2.3 0 3.8 1.4 4 3.8v.2h.2v.1c1.2.5 2 1.3 2.4 2.3.8 1.7.5 3.8-1.1 5.4A7.4 7.4 0 0 1 8 18c-2.7 0-4.8-1-6.2-2.6A10 10 0 0 1 0 9c0-2.7.7-4.8 2-6.4C3.2 1 5.3 0 8 0ZM9 9.3h-.6c-1.4 0-2.1.7-2 1.5 0 .8.9 1.3 2 1.3.6 0 1-.2 1.4-.5.4-.4.7-1 .8-2v-.2A8 8 0 0 0 9 9.3h-.1Z\" fill-rule=\"nonzero\"></path></svg>\n",
            "<span class=\"label\">Threads</span>\n",
            "</a>\n",
            "</div>, <div class=\"listitem -icononly\">\n",
            "<a class=\"trigger tooltip\" href=\"https://x.com/letterboxd\" rel=\"noopener noreferrer\" target=\"_blank\" title=\"Letterboxd on X\">\n",
            "<svg aria-hidden=\"true\" class=\"glyph\" height=\"17\" role=\"presentation\" width=\"17\" xmlns=\"http://www.w3.org/2000/svg\"><path d=\"m5.4 0 4 6 5-6h2.1l-.3.4-5.9 6.8 6.5 9.5.2.3h-5.3l-4.3-6.3L2 16.9 2 17H0l.3-.4 6.2-7.2L.3.4 0 0h5.3Zm-1 1.5H2.9l4.9 7 .6.9 4.3 6.1h1.6l-5-7.3-.7-.9-4-5.8Z\" fill-rule=\"nonzero\"></path></svg>\n",
            "<span class=\"label\">X</span>\n",
            "</a>\n",
            "</div>, <div class=\"listitem -icononly\">\n",
            "<a class=\"trigger tooltip\" href=\"https://bsky.app/profile/letterboxd.social\" rel=\"noopener noreferrer\" target=\"_blank\" title=\"Letterboxd on Bluesky\">\n",
            "<svg aria-hidden=\"true\" class=\"glyph\" height=\"17\" role=\"presentation\" width=\"19\" xmlns=\"http://www.w3.org/2000/svg\"><path d=\"M4.15 1.14C6.34 2.81 8.7 6.18 9.56 7.98c.87-1.8 3.23-5.17 5.42-6.84 1.58-1.2 4.14-2.12 4.14.83 0 .59-.33 4.95-.53 5.66-.68 2.46-3.17 3.1-5.38 2.71 3.87.67 4.85 2.87 2.73 5.07-4.04 4.18-5.8-1.05-6.26-2.39-.08-.25-.12-.36-.12-.26 0-.1-.04.01-.12.26-.45 1.34-2.22 6.57-6.25 2.39-2.13-2.2-1.14-4.4 2.72-5.07-2.2.38-4.7-.25-5.38-2.7C.33 6.91 0 2.55 0 1.96 0-.98 2.56-.05 4.15 1.14Z\" fill=\"#000\" fill-rule=\"nonzero\"></path></svg>\n",
            "<span class=\"label\">Bluesky</span>\n",
            "</a>\n",
            "</div>, <div class=\"listitem -icononly\">\n",
            "<a class=\"trigger tooltip\" href=\"https://www.facebook.com/letterboxd\" rel=\"noopener noreferrer\" target=\"_blank\" title=\"Letterboxd on Facebook\">\n",
            "<svg aria-hidden=\"true\" class=\"glyph\" height=\"19\" role=\"presentation\" width=\"19\" xmlns=\"http://www.w3.org/2000/svg\"><path d=\"M9.5 0a9.5 9.5 0 0 0-1.48 18.89V12H5.6V9.25h2.42V7.41c0-2.38 1.41-3.7 3.58-3.7 1.04 0 2.13.19 2.13.19v2.33h-1.2c-1.18 0-1.54.74-1.54 1.49v1.53h2.63L13.2 12h-2.21v6.89A9.5 9.5 0 0 0 9.5 0Z\"></path></svg>\n",
            "<span class=\"label\">Facebook</span>\n",
            "</a>\n",
            "</div>, <div class=\"listitem -icononly\">\n",
            "<a class=\"trigger tooltip\" href=\"https://www.tiktok.com/@letterboxd\" rel=\"noopener noreferrer\" target=\"_blank\" title=\"Letterboxd on TikTok\">\n",
            "<svg aria-hidden=\"true\" class=\"glyph\" height=\"18\" role=\"presentation\" width=\"17\" xmlns=\"http://www.w3.org/2000/svg\"><path d=\"M16.48 4.32a4.62 4.62 0 0 1-3.92-2.66A4.04 4.04 0 0 1 12.23 0H9.07v11.85c0 1.93-1.19 3.07-2.65 3.07a2.71 2.71 0 0 1-2.04-.9 2.57 2.57 0 0 1-.6-2.1 2.55 2.55 0 0 1 1.26-1.81 2.7 2.7 0 0 1 2.24-.21V6.77a5.92 5.92 0 0 0-4.08.86 5.7 5.7 0 0 0-2.15 2.55 5.53 5.53 0 0 0 1.26 6.16 5.86 5.86 0 0 0 6.33 1.23 5.78 5.78 0 0 0 2.6-2.08c.64-.94.98-2.03.98-3.15V5.96a7.74 7.74 0 0 0 4.25 1.25V4.32Z\"></path></svg>\n",
            "<span class=\"label\">TikTok</span>\n",
            "</a>\n",
            "</div>, <div class=\"listitem -icononly\">\n",
            "<a class=\"trigger tooltip\" href=\"https://www.youtube.com/letterboxdhq\" rel=\"noopener noreferrer\" target=\"_blank\" title=\"Letterboxd on YouTube\">\n",
            "<svg aria-hidden=\"true\" class=\"glyph\" height=\"16\" role=\"presentation\" width=\"23\" xmlns=\"http://www.w3.org/2000/svg\"><path d=\"M11.74 0c.61 0 2.33.02 4.11.08l.54.02c1.7.06 3.35.18 4.1.38a2.87 2.87 0 0 1 2.03 2.02c.45 1.67.48 5.04.48 5.46v.08c0 .42-.03 3.8-.48 5.46a2.87 2.87 0 0 1-2.03 2.02c-.75.2-2.4.32-4.1.38l-.54.02c-1.78.07-3.5.08-4.11.08H11.26c-.62 0-2.33-.01-4.11-.08l-.54-.02c-1.7-.06-3.36-.18-4.1-.38A2.87 2.87 0 0 1 .48 13.5C.04 11.9 0 8.68 0 8.1v-.2c0-.58.04-3.79.48-5.4A2.87 2.87 0 0 1 2.5.48c.74-.2 2.4-.32 4.1-.38l.54-.02C8.93.02 10.65 0 11.26 0ZM9 4.57v6.86L15 8 9 4.57Z\"></path></svg>\n",
            "<span class=\"label\">YouTube</span>\n",
            "</a>\n",
            "</div>]\n"
          ]
        }
      ],
      "source": [
        "print(html)"
      ]
    },
    {
      "cell_type": "code",
      "execution_count": null,
      "metadata": {
        "colab": {
          "base_uri": "https://localhost:8080/"
        },
        "id": "0uRYelH-Ob9p",
        "outputId": "5708b6a4-b622-49ad-db92-efa8739b3ff6"
      },
      "outputs": [
        {
          "name": "stdout",
          "output_type": "stream",
          "text": [
            "Saved: /content/reviews_jujutsu_kaisen_p1.csv\n"
          ]
        }
      ],
      "source": [
        "import re\n",
        "import csv\n",
        "import os\n",
        "\n",
        "def _to_int(s, default=0):\n",
        "    if s is None:\n",
        "        return default\n",
        "    s = re.sub(r\"[^\\d]\", \"\", s)\n",
        "    return int(s) if s else default\n",
        "\n",
        "def _parse_stars_text(text: str):\n",
        "    if not text:\n",
        "        return None\n",
        "    text = text.strip()\n",
        "    full = text.count('★')\n",
        "    half = 0.5 if '½' in text else 0.0\n",
        "    val = full + half\n",
        "    return val if val > 0 else None\n",
        "\n",
        "def parse_article(art):\n",
        "    data = {}\n",
        "\n",
        "    # 1) username\n",
        "    user = art.select_one('.attribution-detail .displayname')\n",
        "    if user:\n",
        "        data['username'] = user.get_text(strip=True)\n",
        "    else:\n",
        "        avatar = art.select_one('a.avatar img[alt]')\n",
        "        data['username'] = avatar['alt'].strip() if avatar and avatar.has_attr('alt') else None\n",
        "\n",
        "    # 2) tanggal review\n",
        "    t = art.select_one('.date time.timestamp')\n",
        "    data['tanggal_review'] = (t.get('datetime') or t.get_text(strip=True)) if t else None\n",
        "\n",
        "    # 3) jumlah komentar\n",
        "    c = art.select_one('a.icon-comment .label')\n",
        "    data['jumlah_komentar'] = _to_int(c.get_text(strip=True) if c else None)\n",
        "\n",
        "    # 4) text review\n",
        "    body = art.select_one('.js-review-body')\n",
        "    if body:\n",
        "        for br in body.select('br'):\n",
        "            br.replace_with(' ')\n",
        "        data['text_review'] = body.get_text(\" \", strip=True)\n",
        "    else:\n",
        "        p = art.select_one('.js-review p.body-text')\n",
        "        data['text_review'] = p.get_text(\" \", strip=True) if p else None\n",
        "\n",
        "    # 5) isLike (badge \"Liked\" di header)\n",
        "    data['isLike'] = art.select_one('.content-reactions-strip .icon-liked') is not None\n",
        "\n",
        "    # 6) jumlah like user lain\n",
        "    like_block = art.select_one('p.like-link-target')\n",
        "    if like_block and like_block.has_attr('data-count'):\n",
        "        data['jumlah_like'] = _to_int(like_block['data-count'])\n",
        "    else:\n",
        "        a_count = art.select_one('p.like-link-target a[href*=\"/likes/\"]')\n",
        "        data['jumlah_like'] = _to_int(a_count.get_text(strip=True) if a_count else None)\n",
        "\n",
        "    # 7) jumlah bintang (0–5; bisa 0.5)\n",
        "    rating_span = art.select_one('.content-reactions-strip .rating')\n",
        "    stars = None\n",
        "    if rating_span:\n",
        "        cls = ' '.join(rating_span.get('class', []))\n",
        "        m = re.search(r'rated-(\\d+)', cls)\n",
        "        if m:\n",
        "            stars = int(m.group(1)) / 2.0\n",
        "        else:\n",
        "            stars = _parse_stars_text(rating_span.get_text())\n",
        "    data['jumlah_bintang'] = stars\n",
        "\n",
        "    return data\n",
        "\n",
        "# --- main: fetch 1 halaman dan ekspor CSV ---\n",
        "url = \"https://letterboxd.com/film/jujutsu-kaisen/reviews/by/activity/page/1\"\n",
        "headers = {\n",
        "    \"User-Agent\": (\"Mozilla/5.0 (Windows NT 10.0; Win64; x64) AppleWebKit/537.36 \"\n",
        "                   \"(KHTML, like Gecko) Chrome/127.0.0.0 Safari/537.36\")\n",
        "}\n",
        "response = requests.get(url, headers=headers, timeout=30)\n",
        "response.raise_for_status()\n",
        "\n",
        "soup = BeautifulSoup(response.content, 'html.parser')\n",
        "listitems = soup.find_all('div', class_='listitem')\n",
        "\n",
        "results = []\n",
        "for li in listitems:\n",
        "    art = li.select_one('article.production-viewing')\n",
        "    if not art:  # skip ikon sosial, dsb.\n",
        "        continue\n",
        "    results.append(parse_article(art))\n",
        "\n",
        "# --- export to CSV ---\n",
        "outfile = 'reviews_jujutsu_kaisen_p1.csv'\n",
        "fieldnames = [\n",
        "    'username',\n",
        "    'tanggal_review',\n",
        "    'jumlah_komentar',\n",
        "    'text_review',\n",
        "    'isLike',\n",
        "    'jumlah_like',\n",
        "    'jumlah_bintang',\n",
        "]\n",
        "\n",
        "with open(outfile, 'w', newline='', encoding='utf-8') as f:\n",
        "    writer = csv.DictWriter(f, fieldnames=fieldnames, extrasaction='ignore')\n",
        "    writer.writeheader()\n",
        "    for row in results:\n",
        "        writer.writerow(row)\n",
        "\n",
        "print(f\"Saved: {os.path.abspath(outfile)}\")\n"
      ]
    }
  ],
  "metadata": {
    "colab": {
      "provenance": []
    },
    "kernelspec": {
      "display_name": "Python 3",
      "name": "python3"
    },
    "language_info": {
      "name": "python"
    }
  },
  "nbformat": 4,
  "nbformat_minor": 0
}
